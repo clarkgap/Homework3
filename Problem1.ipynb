{
 "cells": [
  {
   "cell_type": "markdown",
   "source": [
    "## Problem 1\n",
    "\n",
    "The liquid-vapor equilibrium equation with two parameters $A_{12}$ and $A_{21}$:\n",
    "\n",
    "$\n",
    "\\begin{aligned}\n",
    "P = & x_1\\exp\\left(A_{12}\\left(\\frac{A_{21}x_2}{A_{12}x_1+A_{21}x_2}\\right)^2\\right)P_{water}^{sat}\\\\\n",
    "& + x_2\\exp\\left(A_{21}\\left(\\frac{A_{12}x_1}{A_{12}x_1+A_{21}x_2}\\right)^2\\right)P_{1,4 dioxane}^{sat}\n",
    "\\end{aligned}\n",
    "$\n",
    "\n",
    "The saturation pressures, $p^{sat}$ are given by the Antoine equation:\n",
    "\n",
    "$\n",
    "\\log_{10}(P^{sat}) = a_1 - \\frac{a_2}{T + a_3},\n",
    "$\n",
    "\n",
    "where $T = 20$($^{\\circ}{\\rm C}$) and $a_{1,2,3}$ for a water - 1,4 dioxane\n",
    "system is given below.\n",
    "\n",
    "|     &nbsp;  | $a_1$   | $a_2$    | $a_3$   |\n",
    "|:------------|:--------|:---------|:--------|\n",
    "| Water       | 8.07131 | 1730.63  | 233.426 |\n",
    "| 1,4 dioxane | 7.43155 | 1554.679 | 240.337 |\n",
    "\n",
    "\n",
    "The following table lists the measured data. Recall that in a binary system $x_1 + x_2 = 1$, so $x_2=1-x_1$.\n",
    "\n",
    "|$x_1$ | 0.0 | 0.1 | 0.2 | 0.3 | 0.4 | 0.5 | 0.6 | 0.7 | 0.8 | 0.9 | 1.0 |\n",
    "|:-----|:--------|:---------|:--------|:-----|:-----|:-----|:-----|:-----|:-----|:-----|:-----|\n",
    "|$p$| 28.1 | 34.4 | 36.7 | 36.9 | 36.8 | 36.7 | 36.5 | 35.4 | 32.9 | 27.7 | 17.5 |\n",
    "\n",
    "Estimate $A_{12}$ and $A_{21}$ using data from the above table:\n",
    "\n",
    "### First step, formulating the least square problem.\n",
    "\n",
    "Minimize the total error between expected result and experimental result:\n",
    "\n",
    "$\\underset{A_{12},A_{21}}{\\text{min}}\\sum^{11}_{i=1}(P(x_{1i},A_{12},A_{21})-P_i)^2$\n",
    "\n",
    "Because the independent value is an exponent in an exponential function, the P function is nonlinear with respect to parameters $A_{12}$ and $A_{21}$.\n",
    "\n",
    "Apply gradient descent:"
   ],
   "metadata": {
    "collapsed": false
   }
  },
  {
   "cell_type": "code",
   "execution_count": 6,
   "outputs": [
    {
     "name": "stdout",
     "output_type": "stream",
     "text": [
      "[1.9542572 1.6984679]\n",
      "0.5309088658728502\n"
     ]
    }
   ],
   "source": [
    "%reset\n",
    "import torch as t\n",
    "from torch.autograd import Variable\n",
    "import numpy as np\n",
    "\n",
    "T = 20 # temperature in C\n",
    "x1 = t.from_numpy(np.linspace(0,1,11))\n",
    "x2 = 1 - x1\n",
    "Pa = t.from_numpy(np.array([28.1, 34.4, 36.7, 36.9, 36.8, 36.7, 36.5, 35.4, 32.9, 27.7, 17.5])) # experimental result\n",
    "Psw = 10**(8.07131 - 1730.63/(T+233.426)) # for water\n",
    "Pso = 10**(7.43155 - 1554.679/(T+240.337)) # for 1,4 dioxane\n",
    "\n",
    "A = Variable(t.tensor([1.0, 2.0]), requires_grad=True)\n",
    "\n",
    "a=0.001\n",
    "\n",
    "# Start gradient descent\n",
    "for i in range(1000):  # TODO: change the termination criterion\n",
    "    loss = t.norm((x1*t.exp(A[0]*((A[1]*x2)/(A[0]*x1+A[1]*x2))**2)*Psw + x2*t.exp(A[1]*((A[0]*x1)/(A[0]*x1+A[1]*x2))**2)*Pso - Pa)**2)\n",
    "    loss.backward()\n",
    "    # no_grad() specifies that the operations within this context are not part of the computational graph, i.e., we don't need the gradient descent algorithm itself to be differentiable with respect to x\n",
    "    with t.no_grad():\n",
    "        A -= a * A.grad\n",
    "\n",
    "        # need to clear the gradient at every step, or otherwise it will accumulate...\n",
    "        A.grad.zero_()\n",
    "\n",
    "print(A.data.numpy())\n",
    "print(loss.data.numpy())"
   ],
   "metadata": {
    "collapsed": false,
    "pycharm": {
     "name": "#%%\n"
    }
   }
  },
  {
   "cell_type": "markdown",
   "source": [
    "3. Compare your optimized model with the data. Does your model fit well with the data?\n"
   ],
   "metadata": {
    "collapsed": false,
    "pycharm": {
     "name": "#%% md\n"
    }
   }
  }
 ],
 "metadata": {
  "kernelspec": {
   "display_name": "Python 3",
   "language": "python",
   "name": "python3"
  },
  "language_info": {
   "codemirror_mode": {
    "name": "ipython",
    "version": 2
   },
   "file_extension": ".py",
   "mimetype": "text/x-python",
   "name": "python",
   "nbconvert_exporter": "python",
   "pygments_lexer": "ipython2",
   "version": "2.7.6"
  }
 },
 "nbformat": 4,
 "nbformat_minor": 0
}