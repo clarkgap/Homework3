{
 "cells": [
  {
   "cell_type": "markdown",
   "source": [
    "Apply Bayesian Optimization to solve $\\min_{x_1, x_2} \\quad \\left(4-2.1x_1^2 + \\frac{x_1^4}{3}\\right)x_1^2 + x_1x_2 + \\left(-4 + 4x_2^2\\right)x_2^2$ with $x_1 \\in [-3,3]$ and $x_2 \\in [-2,2]$"
   ],
   "metadata": {
    "collapsed": false
   }
  },
  {
   "cell_type": "code",
   "execution_count": 124,
   "outputs": [
    {
     "name": "stdout",
     "output_type": "stream",
     "text": [
      "[[-0.15283945 -0.14529887]\n",
      " [ 0.13642757 -0.6944101 ]\n",
      " [ 1.55641272 -0.18799475]\n",
      " [ 1.00380237 -0.87636225]\n",
      " [-1.49068111 -0.4688452 ]\n",
      " [-1.76635967 -0.43937727]\n",
      " [-1.79299756  0.0982339 ]\n",
      " [-2.30982289 -0.95399929]\n",
      " [-2.43510207 -1.08243051]\n",
      " [-2.43063669 -1.08482301]\n",
      " [-2.57670807 -1.08022054]\n",
      " [-2.71885329 -1.10414591]\n",
      " [-2.87009174 -1.13384486]\n",
      " [-3.         -1.16823805]\n",
      " [-2.69631039  1.10468603]]\n",
      "[ 3.18410775e-02 -1.01974551e+00  1.67601070e+00  6.46989625e-01\n",
      "  2.18944523e+00  2.31451833e+00  2.01642195e+00  1.40638300e+01\n",
      "  2.28193479e+01  2.25403410e+01  3.51075058e+01  5.35327190e+01\n",
      "  8.14941278e+01  1.14396093e+02  4.42683980e+01]\n",
      "The minimum value is  -1.019745505470476\n",
      "The minimum point is  [[ 0.13642757 -0.6944101 ]]\n"
     ]
    }
   ],
   "source": [
    "from gp import bayesian_optimisation\n",
    "import numpy as np\n",
    "\n",
    "# modify the bayesian_optimisation function in gp.py, set greater_is_better=False for minimize\n",
    "def loss(x):\n",
    "    return (4-2.1*x[0]**2+(x[0]**4)/3)*x[0]**2+x[0]*x[1]+(-4+4*x[1]**2)*x[1]**2\n",
    "bnd = np.array([[-3,3],[-2,2]])\n",
    "X,Y=bayesian_optimisation(10,loss,bnd)\n",
    "print(X)\n",
    "print(Y)\n",
    "print('The minimum value is ',Y.min())\n",
    "print('The minimum point is ',X[np.where(Y == Y.min())])\n"
   ],
   "metadata": {
    "collapsed": false,
    "pycharm": {
     "name": "#%%\n"
    }
   }
  }
 ],
 "metadata": {
  "kernelspec": {
   "display_name": "Python 3",
   "language": "python",
   "name": "python3"
  },
  "language_info": {
   "codemirror_mode": {
    "name": "ipython",
    "version": 2
   },
   "file_extension": ".py",
   "mimetype": "text/x-python",
   "name": "python",
   "nbconvert_exporter": "python",
   "pygments_lexer": "ipython2",
   "version": "2.7.6"
  }
 },
 "nbformat": 4,
 "nbformat_minor": 0
}