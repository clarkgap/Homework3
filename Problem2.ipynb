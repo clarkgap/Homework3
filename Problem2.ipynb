{
 "cells": [
  {
   "cell_type": "markdown",
   "source": [
    "Apply Bayesian Optimization to solve $\\min_{x_1, x_2} \\quad \\left(4-2.1x_1^2 + \\frac{x_1^4}{3}\\right)x_1^2 + x_1x_2 + \\left(-4 + 4x_2^2\\right)x_2^2$ with $x_1 \\in [-3,3]$ and $x_2 \\in [-2,2]$"
   ],
   "metadata": {
    "collapsed": false
   }
  },
  {
   "cell_type": "code",
   "execution_count": 86,
   "outputs": [
    {
     "name": "stderr",
     "output_type": "stream",
     "text": [
      "C:\\Users\\xiang\\anaconda3\\lib\\site-packages\\sklearn\\gaussian_process\\kernels.py:402: ConvergenceWarning: The optimal value found for dimension 0 of parameter length_scale is close to the specified lower bound 1e-05. Decreasing the bound and calling fit again may find a better value.\n",
      "  warnings.warn(\"The optimal value found for \"\n",
      "C:\\Users\\xiang\\anaconda3\\lib\\site-packages\\sklearn\\gaussian_process\\kernels.py:402: ConvergenceWarning: The optimal value found for dimension 0 of parameter length_scale is close to the specified lower bound 1e-05. Decreasing the bound and calling fit again may find a better value.\n",
      "  warnings.warn(\"The optimal value found for \"\n"
     ]
    },
    {
     "data": {
      "text/plain": "(array([[-2.19800187,  0.55764675],\n        [-1.47380983, -0.45827457],\n        [-2.01220051,  1.40827532],\n        [ 0.07957801,  1.02782794],\n        [ 2.27566887,  0.11244055],\n        [ 2.59067753, -0.01438666],\n        [-0.48822889,  1.7171702 ],\n        [-1.7977263 ,  1.99202068],\n        [-0.35193918,  0.52304459]]),\n array([ 5.81460145,  2.20833111,  8.86083194,  0.34549764, 10.8964388 ,\n        32.98876333, 22.98429976, 45.77629694, -0.51514713]))"
     },
     "execution_count": 86,
     "metadata": {},
     "output_type": "execute_result"
    }
   ],
   "source": [
    "from gp import bayesian_optimisation\n",
    "import numpy as np\n",
    "\n",
    "# modify the bayesian_optimisation function, set greater_is_better=False for minimize\n",
    "def loss(x):\n",
    "    return (4-2.1*x[0]**2+(x[0]**4)/3)*x[0]**2+x[0]*x[1]+(-4+4*x[1]**2)*x[1]**2\n",
    "bnd = np.array([[-3,3],[-2,2]])\n",
    "bayesian_optimisation(4,loss,bnd)"
   ],
   "metadata": {
    "collapsed": false,
    "pycharm": {
     "name": "#%%\n"
    }
   }
  },
  {
   "cell_type": "code",
   "execution_count": 75,
   "outputs": [
    {
     "name": "stdout",
     "output_type": "stream",
     "text": [
      "-0.051735621121147886\n"
     ]
    }
   ],
   "source": [
    "def loss(x):\n",
    "    return (4-2.1*x[0]**2+(x[0]**4)/3)*x[0]**2+x[0]*x[1]+(-4+4*x[1]**2)*x[1]**2\n",
    "print(loss([ 0.07591367, -0.12850392]))"
   ],
   "metadata": {
    "collapsed": false,
    "pycharm": {
     "name": "#%%\n"
    }
   }
  }
 ],
 "metadata": {
  "kernelspec": {
   "display_name": "Python 3",
   "language": "python",
   "name": "python3"
  },
  "language_info": {
   "codemirror_mode": {
    "name": "ipython",
    "version": 2
   },
   "file_extension": ".py",
   "mimetype": "text/x-python",
   "name": "python",
   "nbconvert_exporter": "python",
   "pygments_lexer": "ipython2",
   "version": "2.7.6"
  }
 },
 "nbformat": 4,
 "nbformat_minor": 0
}