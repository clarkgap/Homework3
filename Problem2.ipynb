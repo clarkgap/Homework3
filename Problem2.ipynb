{
 "cells": [
  {
   "cell_type": "markdown",
   "source": [
    "Apply Bayesian Optimization to solve $\\min_{x_1, x_2} \\quad \\left(4-2.1x_1^2 + \\frac{x_1^4}{3}\\right)x_1^2 + x_1x_2 + \\left(-4 + 4x_2^2\\right)x_2^2$ with $x_1 \\in [-3,3]$ and $x_2 \\in [-2,2]$"
   ],
   "metadata": {
    "collapsed": false
   }
  },
  {
   "cell_type": "code",
   "execution_count": 105,
   "outputs": [
    {
     "name": "stdout",
     "output_type": "stream",
     "text": [
      "[ 95.41746958   4.05818368   3.81362908  51.30493963   2.31132168\n",
      " 108.67060327   1.523015    -1.02377075  31.6860129   10.74995659\n",
      "  91.04347131   2.15078767  14.16226495  49.62586124 134.40061699]\n",
      "The minimum value is  -1.0237707543151955\n",
      "The minimum point is  [[-0.12011103  0.7370674 ]]\n"
     ]
    }
   ],
   "source": [
    "from gp import bayesian_optimisation\n",
    "import numpy as np\n",
    "\n",
    "# modify the bayesian_optimisation function, set greater_is_better=False for minimize\n",
    "def loss(x):\n",
    "    return (4-2.1*x[0]**2+(x[0]**4)/3)*x[0]**2+x[0]*x[1]+(-4+4*x[1]**2)*x[1]**2\n",
    "bnd = np.array([[-3,3],[-2,2]])\n",
    "X,Y=bayesian_optimisation(10,loss,bnd)\n",
    "print(Y)\n",
    "print('The minimum value is ',Y.min())\n",
    "print('The minimum point is ',X[np.where(Y == Y.min())])\n"
   ],
   "metadata": {
    "collapsed": false,
    "pycharm": {
     "name": "#%%\n"
    }
   }
  }
 ],
 "metadata": {
  "kernelspec": {
   "display_name": "Python 3",
   "language": "python",
   "name": "python3"
  },
  "language_info": {
   "codemirror_mode": {
    "name": "ipython",
    "version": 2
   },
   "file_extension": ".py",
   "mimetype": "text/x-python",
   "name": "python",
   "nbconvert_exporter": "python",
   "pygments_lexer": "ipython2",
   "version": "2.7.6"
  }
 },
 "nbformat": 4,
 "nbformat_minor": 0
}