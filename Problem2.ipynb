{
 "cells": [
  {
   "cell_type": "markdown",
   "source": [
    "Apply Bayesian Optimization to solve $\\min_{x_1, x_2} \\quad \\left(4-2.1x_1^2 + \\frac{x_1^4}{3}\\right)x_1^2 + x_1x_2 + \\left(-4 + 4x_2^2\\right)x_2^2$ with $x_1 \\in [-3,3]$ and $x_2 \\in [-2,2]$"
   ],
   "metadata": {
    "collapsed": false
   }
  },
  {
   "cell_type": "code",
   "execution_count": 123,
   "outputs": [
    {
     "name": "stdout",
     "output_type": "stream",
     "text": [
      "[[ 2.96245348  1.39114569]\n",
      " [ 1.14303817 -0.40870904]\n",
      " [ 1.34600389  0.38350078]\n",
      " [ 2.17928474 -1.81435031]\n",
      " [-2.71306834 -0.77277034]\n",
      " [ 3.          1.75373844]\n",
      " [ 0.67460738  0.50970691]\n",
      " [ 0.36598161  1.95218717]\n",
      " [ 0.66811641 -0.0496707 ]\n",
      " [-0.16954667  0.87745209]\n",
      " [ 1.68342493  1.85891061]\n",
      " [-2.38450497 -1.59560245]\n",
      " [ 2.79001081 -0.24156649]\n",
      " [-2.48944308 -0.45950434]\n",
      " [ 2.66810757  1.08823477]]\n",
      "[110.0368277    1.36107379   2.35063066  33.56206233  49.73444379\n",
      " 139.69604645   0.99149871  44.06516525   1.35370086  -0.74408025\n",
      "  39.12727284  35.67363266  60.21952208  23.95251663  46.08302529]\n",
      "The minimum value is  -0.7440802530441439\n",
      "The minimum point is  [[-0.16954667  0.87745209]]\n"
     ]
    }
   ],
   "source": [
    "from gp import bayesian_optimisation\n",
    "import numpy as np\n",
    "\n",
    "# modify the bayesian_optimisation function in gp.py, set greater_is_better=False for minimize\n",
    "def loss(x):\n",
    "    return (4-2.1*x[0]**2+(x[0]**4)/3)*x[0]**2+x[0]*x[1]+(-4+4*x[1]**2)*x[1]**2\n",
    "bnd = np.array([[-3,3],[-2,2]])\n",
    "X,Y=bayesian_optimisation(10,loss,bnd)\n",
    "print(X)\n",
    "print(Y)\n",
    "print('The minimum value is ',Y.min())\n",
    "print('The minimum point is ',X[np.where(Y == Y.min())])\n"
   ],
   "metadata": {
    "collapsed": false,
    "pycharm": {
     "name": "#%%\n"
    }
   }
  }
 ],
 "metadata": {
  "kernelspec": {
   "display_name": "Python 3",
   "language": "python",
   "name": "python3"
  },
  "language_info": {
   "codemirror_mode": {
    "name": "ipython",
    "version": 2
   },
   "file_extension": ".py",
   "mimetype": "text/x-python",
   "name": "python",
   "nbconvert_exporter": "python",
   "pygments_lexer": "ipython2",
   "version": "2.7.6"
  }
 },
 "nbformat": 4,
 "nbformat_minor": 0
}