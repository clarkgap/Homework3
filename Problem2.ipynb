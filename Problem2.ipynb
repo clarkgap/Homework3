{
 "cells": [
  {
   "cell_type": "markdown",
   "source": [
    "Apply Bayesian Optimization to solve $\\min_{x_1, x_2} \\quad \\left(4-2.1x_1^2 + \\frac{x_1^4}{3}\\right)x_1^2 + x_1x_2 + \\left(-4 + 4x_2^2\\right)x_2^2$ with $x_1 \\in [-3,3]$ and $x_2 \\in [-2,2]$"
   ],
   "metadata": {
    "collapsed": false
   }
  },
  {
   "cell_type": "code",
   "execution_count": 104,
   "outputs": [
    {
     "name": "stdout",
     "output_type": "stream",
     "text": [
      "[ 76.80259489  13.52212322  10.93590337  32.92054867  45.29469542\n",
      "   0.16112479 109.78416994 137.14009399   7.60224502   1.21033666\n",
      "  50.65371759  -0.48370061  40.25907599   5.63378423  39.48281687]\n",
      "The minimum value is  -0.48370060610578414\n",
      "The minimum point is  [[-0.2730903  -0.61258814]]\n"
     ]
    }
   ],
   "source": [
    "from gp import bayesian_optimisation\n",
    "import numpy as np\n",
    "\n",
    "# modify the bayesian_optimisation function, set greater_is_better=False for minimize\n",
    "def loss(x):\n",
    "    return (4-2.1*x[0]**2+(x[0]**4)/3)*x[0]**2+x[0]*x[1]+(-4+4*x[1]**2)*x[1]**2\n",
    "bnd = np.array([[-3,3],[-2,2]])\n",
    "X,Y=bayesian_optimisation(10,loss,bnd)\n",
    "print(Y)\n",
    "print('The minimum value is ',Y.min())\n",
    "print('The minimum point is ',X[np.where(Y == Y.min())])\n"
   ],
   "metadata": {
    "collapsed": false,
    "pycharm": {
     "name": "#%%\n"
    }
   }
  }
 ],
 "metadata": {
  "kernelspec": {
   "display_name": "Python 3",
   "language": "python",
   "name": "python3"
  },
  "language_info": {
   "codemirror_mode": {
    "name": "ipython",
    "version": 2
   },
   "file_extension": ".py",
   "mimetype": "text/x-python",
   "name": "python",
   "nbconvert_exporter": "python",
   "pygments_lexer": "ipython2",
   "version": "2.7.6"
  }
 },
 "nbformat": 4,
 "nbformat_minor": 0
}