{
 "cells": [
  {
   "cell_type": "markdown",
   "source": [
    "Apply Bayesian Optimization to solve $\\min_{x_1, x_2} \\quad \\left(4-2.1x_1^2 + \\frac{x_1^4}{3}\\right)x_1^2 + x_1x_2 + \\left(-4 + 4x_2^2\\right)x_2^2$ with $x_1 \\in [-3,3]$ and $x_2 \\in [-2,2]$"
   ],
   "metadata": {
    "collapsed": false
   }
  },
  {
   "cell_type": "code",
   "execution_count": 47,
   "outputs": [
    {
     "data": {
      "text/plain": "(array([[-2.12248758, -1.37911594],\n        [-1.06838064,  0.7126894 ],\n        [-1.46096027,  1.2970057 ],\n        [-0.14124044, -0.6578834 ],\n        [-0.12883239,  1.33284193],\n        [-0.35972503, -0.16035007],\n        [ 0.49842758, -0.61889022],\n        [ 0.50137189, -1.47686429],\n        [ 0.18020367, -0.35068531]]),\n array([-15.66569284,  -0.56424902,  -4.90764605,   0.81006019,\n         -5.41157923,  -0.44064419,   0.38451513, -10.44240226,\n          0.36692866]))"
     },
     "execution_count": 47,
     "metadata": {},
     "output_type": "execute_result"
    }
   ],
   "source": [
    "%reset\n",
    "\n",
    "from gp import bayesian_optimisation\n",
    "import numpy as np\n",
    "\n",
    "def loss(x):\n",
    "    return -((4-2.1*x[0]**2+(x[0]**4)/3)*x[0]**2+x[0]*x[1]+(-4+4*x[1]**2)*x[1]**2)\n",
    "bnd = np.array([[-3,3],[-2,2]])\n",
    "bayesian_optimisation(4,loss,bnd)"
   ],
   "metadata": {
    "collapsed": false,
    "pycharm": {
     "name": "#%%\n"
    }
   }
  },
  {
   "cell_type": "code",
   "execution_count": 45,
   "outputs": [
    {
     "name": "stdout",
     "output_type": "stream",
     "text": [
      "-31.883222492886585\n"
     ]
    }
   ],
   "source": [
    "def loss(x):\n",
    "    return -((4-2.1*x[0]**2+(x[0]**4)/3)*x[0]**2+x[0]*x[1]+(-4+4*x[1]**2)*x[1]**2)\n",
    "print(loss([-0.3325061 ,  1.83729017]))"
   ],
   "metadata": {
    "collapsed": false,
    "pycharm": {
     "name": "#%%\n"
    }
   }
  }
 ],
 "metadata": {
  "kernelspec": {
   "display_name": "Python 3",
   "language": "python",
   "name": "python3"
  },
  "language_info": {
   "codemirror_mode": {
    "name": "ipython",
    "version": 2
   },
   "file_extension": ".py",
   "mimetype": "text/x-python",
   "name": "python",
   "nbconvert_exporter": "python",
   "pygments_lexer": "ipython2",
   "version": "2.7.6"
  }
 },
 "nbformat": 4,
 "nbformat_minor": 0
}