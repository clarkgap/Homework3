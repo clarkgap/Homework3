{
 "cells": [
  {
   "cell_type": "markdown",
   "source": [
    "Apply Bayesian Optimization to solve $\\min_{x_1, x_2} \\quad \\left(4-2.1x_1^2 + \\frac{x_1^4}{3}\\right)x_1^2 + x_1x_2 + \\left(-4 + 4x_2^2\\right)x_2^2$ with $x_1 \\in [-3,3]$ and $x_2 \\in [-2,2]$"
   ],
   "metadata": {
    "collapsed": false
   }
  },
  {
   "cell_type": "code",
   "execution_count": 114,
   "outputs": [
    {
     "name": "stdout",
     "output_type": "stream",
     "text": [
      "[ 3.42948025e+00  3.66289690e-02  4.05075687e+01  3.75899845e+01\n",
      "  3.00534009e+01  4.77438098e+01  4.42668859e+01  2.13883621e-02\n",
      " -1.01282350e+00  2.42831488e+01  1.20236132e+01  1.69864775e+00\n",
      "  2.10137079e+00  1.12285129e+01  2.13588007e+00]\n",
      "The minimum value is  -1.0128235021688488\n",
      "The minimum point is  [[-0.02560388  0.69021887]]\n"
     ]
    },
    {
     "name": "stderr",
     "output_type": "stream",
     "text": [
      "C:\\Users\\xiang\\anaconda3\\lib\\site-packages\\sklearn\\gaussian_process\\kernels.py:402: ConvergenceWarning: The optimal value found for dimension 0 of parameter length_scale is close to the specified lower bound 1e-05. Decreasing the bound and calling fit again may find a better value.\n",
      "  warnings.warn(\"The optimal value found for \"\n"
     ]
    }
   ],
   "source": [
    "from gp import bayesian_optimisation\n",
    "import numpy as np\n",
    "\n",
    "# modify the bayesian_optimisation function in gp.py, set greater_is_better=False for minimize\n",
    "def loss(x):\n",
    "    return (4-2.1*x[0]**2+(x[0]**4)/3)*x[0]**2+x[0]*x[1]+(-4+4*x[1]**2)*x[1]**2\n",
    "bnd = np.array([[-3,3],[-2,2]])\n",
    "X,Y=bayesian_optimisation(10,loss,bnd)\n",
    "print(Y)\n",
    "print('The minimum value is ',Y.min())\n",
    "print('The minimum point is ',X[np.where(Y == Y.min())])\n"
   ],
   "metadata": {
    "collapsed": false,
    "pycharm": {
     "name": "#%%\n"
    }
   }
  }
 ],
 "metadata": {
  "kernelspec": {
   "display_name": "Python 3",
   "language": "python",
   "name": "python3"
  },
  "language_info": {
   "codemirror_mode": {
    "name": "ipython",
    "version": 2
   },
   "file_extension": ".py",
   "mimetype": "text/x-python",
   "name": "python",
   "nbconvert_exporter": "python",
   "pygments_lexer": "ipython2",
   "version": "2.7.6"
  }
 },
 "nbformat": 4,
 "nbformat_minor": 0
}